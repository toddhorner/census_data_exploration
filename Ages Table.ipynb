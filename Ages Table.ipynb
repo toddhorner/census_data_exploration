{
 "cells": [
  {
   "cell_type": "markdown",
   "metadata": {},
   "source": [
    "### Use the first cell to load libraries, set up the census API, and download variable names for detailed tables, summary tables, and data profile tables"
   ]
  },
  {
   "cell_type": "code",
   "execution_count": 384,
   "metadata": {
    "collapsed": true
   },
   "outputs": [],
   "source": [
    "import pandas as pd\n",
    "from census import Census\n",
    "import json\n",
    "import urllib\n",
    "import re\n",
    "\n",
    "pd.set_option('max_columns',100)\n",
    "c = Census('e3e84acee03bed32ab1303ef49240f9481298969')\n",
    "\n",
    "details_url = 'https://api.census.gov/data/2015/acs1/variables.json'\n",
    "subject_url = 'https://api.census.gov/data/2015/acs1/subject/variables.json'\n",
    "data_profile_url = 'https://api.census.gov/data/2015/acs1/profile/variables.json'\n",
    "\n",
    "def get_census_vars(url):\n",
    "    '''Download and format census variables'''\n",
    "    \n",
    "    vars_url = urllib.urlopen(url)\n",
    "    vars_url = json.load(vars_url)\n",
    "    \n",
    "    df = pd.DataFrame(vars_url['variables']).T\n",
    "    \n",
    "    # Filter down to rows with acutal variables and only concept and desciption columns\n",
    "    df = df.loc[df.index.str.contains('^B[0-9]{5}|^S[0-9]{3}|^DP[0-9]{2}'),['concept','label']]\n",
    "    return df\n",
    "\n",
    "details = get_census_vars(details_url)\n",
    "subject = get_census_vars(subject_url)\n",
    "data_profile = get_census_vars(data_profile_url)"
   ]
  },
  {
   "cell_type": "code",
   "execution_count": 385,
   "metadata": {
    "collapsed": false
   },
   "outputs": [],
   "source": [
    "details = details.loc[details.index.str.contains('^B01001_...E')]\n",
    "\n",
    "#Build fields tuple\n",
    "fields = tuple(['NAME'] + list(details.index))"
   ]
  },
  {
   "cell_type": "code",
   "execution_count": 435,
   "metadata": {
    "collapsed": false
   },
   "outputs": [],
   "source": [
    "def get_data(fields, time_type):\n",
    "    '''\n",
    "    Retrieves data from the Census API, \n",
    "    grabbing subidivision data if time_type is 5, \n",
    "    and county data if time_type is 1\n",
    "    \n",
    "    Return: Dataframe\n",
    "    '''\n",
    "    \n",
    "    if time_type == 5:\n",
    "        \n",
    "        data = c.acs5.get(fields,geo={'for':'county subdivision:*',\n",
    "                               'in':'state:25 county:11,13,15'},\n",
    "                                year='2015')\n",
    "    elif time_type == 1:\n",
    "        \n",
    "        data = c.acs1.get(fields,geo={'for':'county:11,13,15',\n",
    "                               'in':'state:25'},\n",
    "                                year='2015')\n",
    "        \n",
    "    else: raise Exception('Invalid time type')\n",
    "        \n",
    "    data = pd.DataFrame(data)\n",
    "    return data\n",
    "\n",
    "# Prettify geography names\n",
    "def prettify_geo_names(col,time_type):\n",
    "    if time_type == 5:\n",
    "        col = col.apply(lambda x : re.match('(.+?)(?=\\s[Tt]own|\\s[Cc]ity)', x).group())\n",
    "    elif time_type == 1:\n",
    "        col = col.apply(lambda x : re.match('(.+?)County', x).group())\n",
    "    return col\n",
    "\n",
    "def add_columns_by_name(col,df):\n",
    "    '''\n",
    "    For adding male and female population columns\n",
    "    '''\n",
    "    \n",
    "    columns_to_add = df.columns.str.contains(col)\n",
    "    summed = df.loc[:,columns_to_add].sum(axis=1)\n",
    "    return summed  "
   ]
  },
  {
   "cell_type": "code",
   "execution_count": 436,
   "metadata": {
    "collapsed": true
   },
   "outputs": [],
   "source": [
    "def build_ages_table(fields,time_type):\n",
    "\n",
    "    ages = get_data(fields, time_type)\n",
    "\n",
    "    # Generate intelligible column names from the variables index\n",
    "    new_columns = [details.loc[x,'label'] for x in ages.columns if x in details.index]\n",
    "\n",
    "    # Replace variable column names\n",
    "    ages.columns = new_columns + list(ages.columns[len(new_columns):])\n",
    "\n",
    "    ages['NAME'] = prettify_geo_names(ages['NAME'],time_type)    \n",
    "    ages.index = ages['NAME']\n",
    "    ages = ages.apply(lambda x : x.astype('float64',errors='ignore'))\n",
    "    ages\n",
    "    \n",
    "    #Write raw data to a csv file\n",
    "    ages.to_csv('{}_year_raw_data'.format(time_type))\n",
    "\n",
    "    # Select all alphanumeric chars and spaces after the exclamation points\n",
    "    regex = '[\\w\\s]+$'\n",
    "\n",
    "    # Create column names for totals dataframe\n",
    "    # TODO - clean up how I create this columns\n",
    "    total_cols = pd.Series([re.search(regex,col).group() for col in new_columns if '!!' in col]).unique()\n",
    "\n",
    "    # Create a totals dataframe with the index from the ages dataframe\n",
    "    totals = pd.DataFrame(columns=total_cols, index=ages.index)\n",
    "\n",
    "    # Promote columns to a row so that we can access whie apply a lmbada to the dataframe\n",
    "    # This row will disappear while applying add_columns_by_name\n",
    "    totals.loc['_cols'] = totals.columns\n",
    "\n",
    "    totals = totals.apply(lambda x : add_columns_by_name(x.loc['_cols'], ages))\n",
    "    return totals"
   ]
  },
  {
   "cell_type": "code",
   "execution_count": 437,
   "metadata": {
    "collapsed": false,
    "scrolled": true
   },
   "outputs": [],
   "source": [
    "subdivisions = build_ages_table(fields,5)\n",
    "counties = build_ages_table(fields,1)\n",
    "\n",
    "counties.loc['Pioneer Valley'] = counties.loc[['Franklin County','Hampden County','Hampshire County']].sum()\n",
    "counties.loc['Pioneer Valley Region'] = counties.loc[['Hampden County','Hampshire County']].sum()\n",
    "\n",
    "ages_table = pd.concat([counties,subdivisions])"
   ]
  },
  {
   "cell_type": "code",
   "execution_count": 439,
   "metadata": {
    "collapsed": false
   },
   "outputs": [],
   "source": [
    "ages_table.to_csv('ages_tables.csv')"
   ]
  },
  {
   "cell_type": "code",
   "execution_count": null,
   "metadata": {
    "collapsed": true
   },
   "outputs": [],
   "source": []
  }
 ],
 "metadata": {
  "kernelspec": {
   "display_name": "Python 2",
   "language": "python",
   "name": "python2"
  },
  "language_info": {
   "codemirror_mode": {
    "name": "ipython",
    "version": 2
   },
   "file_extension": ".py",
   "mimetype": "text/x-python",
   "name": "python",
   "nbconvert_exporter": "python",
   "pygments_lexer": "ipython2",
   "version": "2.7.13"
  }
 },
 "nbformat": 4,
 "nbformat_minor": 0
}
